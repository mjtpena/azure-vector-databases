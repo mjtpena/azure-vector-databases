{
 "cells": [
  {
   "cell_type": "markdown",
   "metadata": {},
   "source": [
    "# Vector Search using Azure Cognitive Search, Azure Open AI, and C#"
   ]
  },
  {
   "cell_type": "markdown",
   "metadata": {},
   "source": [
    "## Vector Databases\n",
    "A Vector Database is a type of database that stores data as high-dimensional vectors. These vectors can represent a wide range of information, such as numerical features, embeddings from text or images, and even complex data like molecular structures. They are typically powered by k-nearest neighbor (k-NN) indexes and built with algorithms like the Hierarchical Navigable Small World (HNSW) and Inverted File Index (IVF) algorithms. Vector databases provide additional capabilities like data management, fault tolerance, authentication and access control, and a query engine.\n",
    "\n",
    "### What is Azure Cognitive Search?\n",
    "Azure Cognitive Search (formerly known as “Azure Search”) is a cloud search service that gives developers infrastructure, APIs, and tools for building a rich search experience over private, heterogeneous content in web, mobile, and enterprise applications. It integrates with other Azure services in the form of indexers that automate data ingestion/retrieval from Azure data sources, and skillsets that incorporate consumable AI from Azure AI services."
   ]
  },
  {
   "cell_type": "markdown",
   "metadata": {},
   "source": [
    "## Initialise the following\n",
    "- Service Endpoints and Keys\n",
    "- Nuget packages and references\n",
    "- C# Client objects"
   ]
  },
  {
   "cell_type": "code",
   "execution_count": 1,
   "metadata": {
    "dotnet_interactive": {
     "language": "csharp"
    },
    "polyglot_notebook": {
     "kernelName": "csharp"
    }
   },
   "outputs": [],
   "source": [
    "#!set --name serviceEndpoint --value https://XXXXX.search.windows.net\n",
    "#!set --name indexName --value azugmnl-vector-azure-XXXXX\n",
    "#!set --name key --value XXXXX\n",
    "#!set --name openaiEndpoint --value https://XXXXX.openai.azure.com/\n",
    "#!set --name openaiApiKey --value XXXXX\n",
    "#!set --name TextEmbeddingModel --value text-embedding-ada-002\n",
    "#!set --name SearchConfigName --value my-search-config\n",
    "#!set --name SemanticSearchConfigName --value my-semantic-search-config\n",
    "#!set --name VectorSearchConfigName --value my-vector-search-config\n",
    "#!set --name ResultSize --value 5\n"
   ]
  },
  {
   "cell_type": "code",
   "execution_count": 2,
   "metadata": {
    "dotnet_interactive": {
     "language": "csharp"
    },
    "polyglot_notebook": {
     "kernelName": "csharp"
    }
   },
   "outputs": [
    {
     "data": {
      "text/html": [
       "<div><div></div><div></div><div><strong>Installed Packages</strong><ul><li><span>Azure.AI.OpenAI, 1.0.0-beta.5</span></li><li><span>Azure.Identity, 1.9.0</span></li><li><span>Azure.Search.Documents, 11.5.0-beta.4</span></li></ul></div></div>"
      ]
     },
     "metadata": {},
     "output_type": "display_data"
    }
   ],
   "source": [
    "#r \"nuget:Azure.AI.OpenAI,1.0.0-beta.5\"\n",
    "#r \"nuget:Azure.Identity,1.9.0\"\n",
    "#r \"nuget:Azure.Search.Documents,11.5.0-beta.4\"\n",
    "\n",
    "using System.Text.Json;\n",
    "using Azure;\n",
    "using Azure.AI.OpenAI;\n",
    "using Azure.Search.Documents;\n",
    "using Azure.Search.Documents.Indexes;\n",
    "using Azure.Search.Documents.Indexes.Models;\n",
    "using Azure.Search.Documents.Models;\n",
    "using Microsoft.Extensions.Configuration;"
   ]
  },
  {
   "cell_type": "code",
   "execution_count": 3,
   "metadata": {
    "dotnet_interactive": {
     "language": "csharp"
    },
    "polyglot_notebook": {
     "kernelName": "csharp"
    }
   },
   "outputs": [],
   "source": [
    "// Initialize OpenAI client  \n",
    "var credential = new AzureKeyCredential(openaiApiKey);\n",
    "var openAIClient = new OpenAIClient(new Uri(openaiEndpoint), credential);\n",
    "\n",
    "// Initialize Azure Cognitive Search clients  \n",
    "var searchCredential = new AzureKeyCredential(key);\n",
    "var indexClient = new SearchIndexClient(new Uri(serviceEndpoint), searchCredential);\n",
    "var searchClient = indexClient.GetSearchClient(indexName);"
   ]
  },
  {
   "cell_type": "markdown",
   "metadata": {},
   "source": [
    "## Create the search index"
   ]
  },
  {
   "cell_type": "code",
   "execution_count": 4,
   "metadata": {
    "dotnet_interactive": {
     "language": "csharp"
    },
    "polyglot_notebook": {
     "kernelName": "csharp"
    }
   },
   "outputs": [],
   "source": [
    "#!value --from-file azure.json --name inputJson"
   ]
  },
  {
   "cell_type": "code",
   "execution_count": 5,
   "metadata": {
    "dotnet_interactive": {
     "language": "csharp"
    },
    "polyglot_notebook": {
     "kernelName": "csharp"
    }
   },
   "outputs": [],
   "source": [
    "#!share inputJson --from value\n",
    "\n",
    "SearchIndex searchIndex = new(indexName)\n",
    "{\n",
    "    VectorSearch = new()\n",
    "    {\n",
    "        AlgorithmConfigurations =\n",
    "        {\n",
    "            new HnswVectorSearchAlgorithmConfiguration(VectorSearchConfigName)\n",
    "        }\n",
    "    },\n",
    "    SemanticSettings = new()\n",
    "    {\n",
    "\n",
    "        Configurations =\n",
    "        {\n",
    "            new SemanticConfiguration(SemanticSearchConfigName, new()\n",
    "            {\n",
    "                TitleField = new(){ FieldName = \"title\" },\n",
    "                ContentFields =\n",
    "                {\n",
    "                    new() { FieldName = \"content\" }\n",
    "                },\n",
    "                KeywordFields =\n",
    "                {\n",
    "                    new() { FieldName = \"category\" }\n",
    "                }\n",
    "\n",
    "            })\n",
    "\n",
    "        },\n",
    "    },\n",
    "    Fields =\n",
    "    {\n",
    "        new SimpleField(\"id\", SearchFieldDataType.String) { IsKey = true, IsFilterable = true, IsSortable = true, IsFacetable = true },\n",
    "        new SearchableField(\"title\") { IsFilterable = true, IsSortable = true },\n",
    "        new SearchableField(\"content\") { IsFilterable = true },\n",
    "        new SearchField(\"titleVector\", SearchFieldDataType.Collection(SearchFieldDataType.Single))\n",
    "        {\n",
    "            IsSearchable = true,\n",
    "            VectorSearchDimensions = 1536,\n",
    "            VectorSearchConfiguration = VectorSearchConfigName\n",
    "        },\n",
    "        new SearchField(\"contentVector\", SearchFieldDataType.Collection(SearchFieldDataType.Single))\n",
    "        {\n",
    "            IsSearchable = true,\n",
    "            VectorSearchDimensions = 1536,\n",
    "            VectorSearchConfiguration = VectorSearchConfigName\n",
    "        },\n",
    "        new SearchableField(\"category\") { IsFilterable = true, IsSortable = true, IsFacetable = true }\n",
    "    }\n",
    "};\n",
    "\n",
    "indexClient.CreateOrUpdateIndex(searchIndex);\n",
    "\n",
    "var inputDocuments = JsonSerializer.Deserialize<List<Dictionary<string, object>>>(inputJson) ?? new List<Dictionary<string, object>>();\n",
    "\n",
    "var sampleDocuments = await GetSampleDocumentsAsync(openAIClient, inputDocuments);\n",
    "await searchClient.IndexDocumentsAsync(IndexDocumentsBatch.Upload(sampleDocuments));\n",
    "\n",
    "async Task<List<SearchDocument>> GetSampleDocumentsAsync(OpenAIClient openAIClient, List<Dictionary<string, object>> inputDocuments)\n",
    "{\n",
    "    List<SearchDocument> sampleDocuments = new List<SearchDocument>();\n",
    "\n",
    "    foreach (var document in inputDocuments)\n",
    "    {\n",
    "        string title = document[\"title\"]?.ToString() ?? string.Empty;\n",
    "        string content = document[\"content\"]?.ToString() ?? string.Empty;\n",
    "\n",
    "        float[] contentEmbeddings = (await GenerateEmbeddings(content, openAIClient)).ToArray();\n",
    "\n",
    "        document[\"contentVector\"] = contentEmbeddings;\n",
    "        sampleDocuments.Add(new SearchDocument(document));\n",
    "    }\n",
    "\n",
    "    return sampleDocuments;\n",
    "}\n",
    "\n",
    "async Task<IReadOnlyList<float>> GenerateEmbeddings(string text, OpenAIClient openAIClient)\n",
    "{\n",
    "    var response = await openAIClient.GetEmbeddingsAsync(TextEmbeddingModel, new EmbeddingsOptions(text));\n",
    "    return response.Value.Data[0].Embedding;\n",
    "}"
   ]
  },
  {
   "cell_type": "markdown",
   "metadata": {},
   "source": [
    "## Single Vector Search\n",
    "\n",
    "This demo showcases the power of Azure Cognitive Search in performing high-dimensional vector searches. It demonstrates how to use vector embeddings to find similar items in a large dataset, based on their semantic similarity rather than syntactic match."
   ]
  },
  {
   "cell_type": "code",
   "execution_count": 10,
   "metadata": {
    "dotnet_interactive": {
     "language": "csharp"
    },
    "polyglot_notebook": {
     "kernelName": "csharp"
    }
   },
   "outputs": [
    {
     "name": "stdout",
     "output_type": "stream",
     "text": [
      "Title: Azure Data Factory\n",
      "Score: 0.8826109\n",
      "\n",
      "Content: Azure Data Factory is a cloud-based data integration service that allows you to create, schedule, and manage data workflows. It supports a wide range of sources and destinations, such as Azure Blob Storage, Azure SQL Database, and on-premises file systems. Data Factory provides a visual interface for designing and monitoring your workflows, as well as support for popular programming languages like Python and .NET. You can use Data Factory to move and transform data, orchestrate complex data processing tasks, and integrate with other Azure services.\n",
      "Category: Analytics\n",
      "\n",
      "Title: Azure Data Factory\n",
      "Score: 0.8815417\n",
      "\n",
      "Content: Azure Data Factory is a cloud-based data integration service that enables you to create, schedule, and manage your data workflows. It provides features like data movement, data transformation, and integration with Azure Machine Learning. Data Factory supports various data sources, such as Azure Blob Storage, Azure Data Lake Storage, and Azure SQL Database. You can use Azure Data Factory to build data pipelines, develop big data analytics solutions, and migrate your data to Azure. It also integrates with other Azure services, such as Azure Synapse Analytics and Azure Data Lake Analytics.\n",
      "Category: Analytics\n",
      "\n",
      "Title: Azure Data Explorer\n",
      "Score: 0.84958494\n",
      "\n",
      "Content: Azure Data Explorer is a fast, fully managed data analytics service for real-time analysis on large volumes of data. It provides features like ingestion, querying, and visualization. Data Explorer supports various data sources, such as Azure Event Hubs, Azure IoT Hub, and Azure Blob Storage. You can use Data Explorer to analyze logs, monitor applications, and gain insights into your data. It also integrates with other Azure services, such as Azure Synapse Analytics and Azure Machine Learning.\n",
      "Category: Analytics\n",
      "\n",
      "Title: Azure Data Lake Analytics\n",
      "Score: 0.8440723\n",
      "\n",
      "Content: Azure Data Lake Analytics is an on-demand, cloud-based analytics service that enables you to process and analyze big data. It provides features like job scheduling, parallel processing, and built-in analytics functions. Data Lake Analytics supports various data sources, such as Azure Data Lake Storage, Azure Blob Storage, and Azure SQL Database. You can use Data Lake Analytics to run U-SQL, R, and Python scripts, perform advanced analytics, and gain insights into your data. It also integrates with other Azure services, such as Azure Machine Learning and Azure Data Factory.\n",
      "Category: Analytics\n",
      "\n",
      "Title: Azure SQL Data Warehouse\n",
      "Score: 0.84135795\n",
      "\n",
      "Content: Azure SQL Data Warehouse is a fully managed, petabyte-scale cloud data warehouse service that enables you to store and analyze your structured and semi-structured data. It provides features like automatic scaling, data movement, and integration with Azure Machine Learning. SQL Data Warehouse supports various data sources, such as Azure Blob Storage, Azure Data Lake Storage, and Azure SQL Database. You can use Azure SQL Data Warehouse to build data lakes, develop big data analytics solutions, and ensure the performance and security of your data. It also integrates with other Azure services, such as Azure Synapse Analytics and Azure Data Factory.\n",
      "Category: Databases\n",
      "\n",
      "Total Results: 5\n"
     ]
    }
   ],
   "source": [
    "string query = \"Find services similar to Azure Data Factory\";\n",
    "\n",
    " // Generate the embedding for the query  \n",
    "var queryEmbeddings = await GenerateEmbeddings(query, openAIClient);\n",
    "\n",
    "// Perform the vector similarity search  \n",
    "var searchOptions = new SearchOptions\n",
    "{\n",
    "    Vectors = { new() { Value = queryEmbeddings.ToArray(), KNearestNeighborsCount = Int32.Parse(ResultSize), Fields = { \"contentVector\" } } },\n",
    "    Size = Int32.Parse(ResultSize),\n",
    "    Select = { \"title\", \"content\", \"category\" },\n",
    "};\n",
    "\n",
    "SearchResults<SearchDocument> response = await searchClient.SearchAsync<SearchDocument>(null, searchOptions);\n",
    "\n",
    "int count = 0;\n",
    "await foreach (SearchResult<SearchDocument> result in response.GetResultsAsync())\n",
    "{\n",
    "    count++;\n",
    "    Console.WriteLine($\"Title: {result.Document[\"title\"]}\");\n",
    "    Console.WriteLine($\"Score: {result.Score}\\n\");\n",
    "    Console.WriteLine($\"Content: {result.Document[\"content\"]}\");\n",
    "    Console.WriteLine($\"Category: {result.Document[\"category\"]}\\n\");\n",
    "}\n",
    "Console.WriteLine($\"Total Results: {count}\");\n",
    "\n",
    "async Task<IReadOnlyList<float>> GenerateEmbeddings(string text, OpenAIClient openAIClient)\n",
    "{\n",
    "    var response = await openAIClient.GetEmbeddingsAsync(TextEmbeddingModel, new EmbeddingsOptions(text));\n",
    "    return response.Value.Data[0].Embedding;\n",
    "}"
   ]
  },
  {
   "cell_type": "markdown",
   "metadata": {},
   "source": [
    "## Vector Search with Filter\n",
    "\n",
    "This demo extends the Single Vector Search by adding filters. It shows how you can combine traditional search capabilities with vector search to refine results. For example, you might search for semantically similar items within a certain category or items that meet specific criteria."
   ]
  },
  {
   "cell_type": "code",
   "execution_count": 11,
   "metadata": {
    "dotnet_interactive": {
     "language": "csharp"
    },
    "polyglot_notebook": {
     "kernelName": "csharp"
    }
   },
   "outputs": [
    {
     "name": "stdout",
     "output_type": "stream",
     "text": [
      "Title: Azure SQL Data Warehouse\n",
      "Score: 0.84135795\n",
      "\n",
      "Content: Azure SQL Data Warehouse is a fully managed, petabyte-scale cloud data warehouse service that enables you to store and analyze your structured and semi-structured data. It provides features like automatic scaling, data movement, and integration with Azure Machine Learning. SQL Data Warehouse supports various data sources, such as Azure Blob Storage, Azure Data Lake Storage, and Azure SQL Database. You can use Azure SQL Data Warehouse to build data lakes, develop big data analytics solutions, and ensure the performance and security of your data. It also integrates with other Azure services, such as Azure Synapse Analytics and Azure Data Factory.\n",
      "Category: Databases\n",
      "\n",
      "Title: Azure Database Migration Service\n",
      "Score: 0.8318007\n",
      "\n",
      "Content: Azure Database Migration Service is a fully managed, end-to-end migration service that enables you to migrate your databases to Azure with minimal downtime. It supports various source and target platforms, such as SQL Server, MySQL, PostgreSQL, and Azure SQL Database. Database Migration Service provides features like schema conversion, data migration, and performance monitoring. You can use Azure Database Migration Service to migrate your databases, ensure the compatibility of your workloads, and minimize your migration risks. It also integrates with other Azure services, such as Azure Migrate and Azure SQL Managed Instance.\n",
      "Category: Databases\n",
      "\n",
      "Title: Azure SQL Database\n",
      "Score: 0.82663786\n",
      "\n",
      "Content: Azure SQL Database is a fully managed relational database service based on the latest stable version of Microsoft SQL Server. It offers built-in intelligence that learns your application patterns and adapts to maximize performance, reliability, and data protection. SQL Database supports elastic scaling, allowing you to dynamically adjust resources to match your workload. It provides advanced security features, such as encryption, auditing, and threat detection. You can migrate your existing SQL Server databases to Azure SQL Database with minimal downtime.\n",
      "Category: Databases\n",
      "\n",
      "Title: Azure Cosmos DB\n",
      "Score: 0.8154081\n",
      "\n",
      "Content: Azure Cosmos DB is a globally distributed, multi-model database service that enables you to build and manage NoSQL applications in Azure. It provides features like automatic scaling, low-latency access, and multi-master replication. Cosmos DB supports various data models, such as key-value, document, graph, and column-family. You can use Azure Cosmos DB to build globally distributed applications, ensure high availability and performance, and manage your data at scale. It also integrates with other Azure services, such as Azure Functions and Azure App Service.\n",
      "Category: Databases\n",
      "\n",
      "Total Results: 4\n"
     ]
    }
   ],
   "source": [
    "string query = \"Find services similar to Azure Data Factory\";\n",
    "string filter = \"category eq 'Databases'\";\n",
    "\n",
    "// Generate the embedding for the query  \n",
    "var queryEmbeddings = await GenerateEmbeddings(query, openAIClient);\n",
    "\n",
    "// Perform the vector similarity search  \n",
    "var searchOptions = new SearchOptions\n",
    "{\n",
    "    Vectors = { new() { Value = queryEmbeddings.ToArray(), KNearestNeighborsCount = Int32.Parse(ResultSize), Fields = { \"contentVector\" } } },\n",
    "    Filter = filter,\n",
    "    Select = { \"title\", \"content\", \"category\" },\n",
    "    Size = Int32.Parse(ResultSize)\n",
    "};\n",
    "\n",
    "SearchResults<SearchDocument> response = await searchClient.SearchAsync<SearchDocument>(null, searchOptions);\n",
    "\n",
    "int count = 0;\n",
    "await foreach (SearchResult<SearchDocument> result in response.GetResultsAsync())\n",
    "{\n",
    "    count++;\n",
    "    Console.WriteLine($\"Title: {result.Document[\"title\"]}\");\n",
    "    Console.WriteLine($\"Score: {result.Score}\\n\");\n",
    "    Console.WriteLine($\"Content: {result.Document[\"content\"]}\");\n",
    "    Console.WriteLine($\"Category: {result.Document[\"category\"]}\\n\");\n",
    "\n",
    "}\n",
    "Console.WriteLine($\"Total Results: {count}\");\n",
    "\n",
    "            \n",
    "async Task<IReadOnlyList<float>> GenerateEmbeddings(string text, OpenAIClient openAIClient)\n",
    "{\n",
    "    var response = await openAIClient.GetEmbeddingsAsync(TextEmbeddingModel, new EmbeddingsOptions(text));\n",
    "    return response.Value.Data[0].Embedding;\n",
    "}"
   ]
  },
  {
   "cell_type": "markdown",
   "metadata": {},
   "source": [
    "## Simple Hybrid Search\n",
    "\n",
    "This demo illustrates the combination of traditional keyword-based search with vector search. It demonstrates how Azure Cognitive Search can return results that not only match the keywords but also have high semantic similarity to the query, providing a more nuanced and context-aware search experience."
   ]
  },
  {
   "cell_type": "code",
   "execution_count": 12,
   "metadata": {
    "dotnet_interactive": {
     "language": "csharp"
    },
    "polyglot_notebook": {
     "kernelName": "csharp"
    }
   },
   "outputs": [
    {
     "name": "stdout",
     "output_type": "stream",
     "text": [
      "Title: Azure Synapse Analytics\n",
      "Score: 0.03333333507180214\n",
      "\n",
      "Content: Azure Synapse Analytics is an integrated analytics service that brings together big data and data warehousing. It enables you to ingest, prepare, manage, and serve data for immediate business intelligence and machine learning needs. Synapse Analytics provides a unified workspace for data engineers, data scientists, and business analysts to collaborate and build solutions. It supports various data sources, including Azure Data Lake Storage, Azure Blob Storage, and Azure Cosmos DB. You can use Synapse Analytics with other Azure services, such as Azure Machine Learning and Power BI.\n",
      "Category: Analytics\n",
      "\n",
      "Title: Azure Data Lake Analytics\n",
      "Score: 0.03226646035909653\n",
      "\n",
      "Content: Azure Data Lake Analytics is an on-demand, cloud-based analytics service that enables you to process and analyze big data. It provides features like job scheduling, parallel processing, and built-in analytics functions. Data Lake Analytics supports various data sources, such as Azure Data Lake Storage, Azure Blob Storage, and Azure SQL Database. You can use Data Lake Analytics to run U-SQL, R, and Python scripts, perform advanced analytics, and gain insights into your data. It also integrates with other Azure services, such as Azure Machine Learning and Azure Data Factory.\n",
      "Category: Analytics\n",
      "\n",
      "Title: Azure Data Explorer\n",
      "Score: 0.0320020467042923\n",
      "\n",
      "Content: Azure Data Explorer is a fast, fully managed data analytics service for real-time analysis on large volumes of data. It provides features like ingestion, querying, and visualization. Data Explorer supports various data sources, such as Azure Event Hubs, Azure IoT Hub, and Azure Blob Storage. You can use Data Explorer to analyze logs, monitor applications, and gain insights into your data. It also integrates with other Azure services, such as Azure Synapse Analytics and Azure Machine Learning.\n",
      "Category: Analytics\n",
      "\n",
      "Title: Azure SQL Data Warehouse\n",
      "Score: 0.030477948486804962\n",
      "\n",
      "Content: Azure SQL Data Warehouse is a fully managed, petabyte-scale cloud data warehouse service that enables you to store and analyze your structured and semi-structured data. It provides features like automatic scaling, data movement, and integration with Azure Machine Learning. SQL Data Warehouse supports various data sources, such as Azure Blob Storage, Azure Data Lake Storage, and Azure SQL Database. You can use Azure SQL Data Warehouse to build data lakes, develop big data analytics solutions, and ensure the performance and security of your data. It also integrates with other Azure services, such as Azure Synapse Analytics and Azure Data Factory.\n",
      "Category: Databases\n",
      "\n",
      "Title: Azure Databricks\n",
      "Score: 0.02991071343421936\n",
      "\n",
      "Content: Azure Databricks is a fully managed, Apache Spark-based analytics platform that enables you to process and analyze large volumes of data. It provides features like collaborative notebooks, job scheduling, and integration with Azure Machine Learning. Databricks supports various data sources, such as Azure Blob Storage, Azure Data Lake Storage, and Azure Cosmos DB. You can use Azure Databricks to build data lakes, develop big data analytics solutions, and train machine learning models. It also integrates with other Azure services, such as Azure Synapse Analytics and Azure Data Factory.\n",
      "Category: Analytics\n",
      "\n",
      "Total Results: 5\n"
     ]
    }
   ],
   "source": [
    "string query = \"Find services related to ‘data warehousing’ that are similar to Azure Synapse Analytics\";\n",
    "\n",
    " // Generate the embedding for the query  \n",
    "var queryEmbeddings = await GenerateEmbeddings(query, openAIClient);\n",
    "\n",
    "// Perform the vector similarity search  \n",
    "var searchOptions = new SearchOptions\n",
    "{\n",
    "    Vectors = { new() { Value = queryEmbeddings.ToArray(), KNearestNeighborsCount = Int32.Parse(ResultSize), Fields = { \"contentVector\" } } },\n",
    "    Size = Int32.Parse(ResultSize),\n",
    "    Select = { \"title\", \"content\", \"category\" },\n",
    "};\n",
    "\n",
    "\n",
    "SearchResults<SearchDocument> response = await searchClient.SearchAsync<SearchDocument>(query, searchOptions);\n",
    "\n",
    "int count = 0;\n",
    "await foreach (SearchResult<SearchDocument> result in response.GetResultsAsync())\n",
    "{\n",
    "    count++;\n",
    "    Console.WriteLine($\"Title: {result.Document[\"title\"]}\");\n",
    "    Console.WriteLine($\"Score: {result.Score}\\n\");\n",
    "    Console.WriteLine($\"Content: {result.Document[\"content\"]}\");\n",
    "    Console.WriteLine($\"Category: {result.Document[\"category\"]}\\n\");\n",
    "}\n",
    "Console.WriteLine($\"Total Results: {count}\");\n",
    "\n",
    "async Task<IReadOnlyList<float>> GenerateEmbeddings(string text, OpenAIClient openAIClient)\n",
    "{\n",
    "    var response = await openAIClient.GetEmbeddingsAsync(TextEmbeddingModel, new EmbeddingsOptions(text));\n",
    "    return response.Value.Data[0].Embedding;\n",
    "}"
   ]
  },
  {
   "cell_type": "markdown",
   "metadata": {},
   "source": [
    "## Semantic Hybrid Search\n",
    "\n",
    "This demo takes the hybrid search approach a step further by leveraging advanced NLP techniques for semantic understanding. It shows how Azure Cognitive Search can understand the intent behind a query and return results that are semantically relevant, even if they don’t exactly match the query terms.\n",
    "\n",
    "### What is Semantic Search?\n",
    "\n",
    "Semantic search is an information retrieval process used by modern search engines to return the most relevant search results. It focuses on the meaning behind search queries instead of the traditional keyword matching. The terminology comes from a branch of linguistics called semantics, which is concerned with the study of meaning. Semantic search is about visualizing relationships between concepts and entities (as well as relationships between related concepts and entities)."
   ]
  },
  {
   "cell_type": "code",
   "execution_count": 13,
   "metadata": {
    "dotnet_interactive": {
     "language": "csharp"
    },
    "polyglot_notebook": {
     "kernelName": "csharp"
    }
   },
   "outputs": [
    {
     "name": "stdout",
     "output_type": "stream",
     "text": [
      "Semantic Hybrid Search Results:\n",
      "\n",
      "Query Answer:\n",
      "Title: Azure HDInsight\n",
      "Score: 0.031054403632879257\n",
      "\n",
      "Content: Azure HDInsight is a fully managed, open-source analytics service for processing big data workloads. It provides popular open-source frameworks, such as Apache Hadoop, Apache Spark, Apache Kafka, and Apache HBase. HDInsight supports various data sources, such as Azure Blob Storage, Azure Data Lake Storage, and Azure Cosmos DB. You can use HDInsight to analyze and process large volumes of data, build real-time analytics solutions, and develop machine learning models. It also integrates with other Azure services, such as Azure Synapse Analytics and Azure Machine Learning.\n",
      "Category: Analytics\n",
      "\n",
      "Caption Highlights: <em>Azure HDInsight</em> is a fully managed, open-source analytics service for processing big data workloads. It provides popular open-source frameworks, such as Apache Hadoop, Apache Spark, Apache Kafka, and Apache HBase.<em> HDInsight</em> supports various data sources, such as Azure Blob Storage, Azure Data Lake Storage, and Azure Cosmos DB.\n",
      "\n",
      "Title: Azure Event Hubs\n",
      "Score: 0.016393441706895828\n",
      "\n",
      "Content: Azure Event Hubs is a fully managed, real-time data ingestion service that enables you to stream and process millions of events per second. It supports various data producers, such as IoT devices, applications, and services. Event Hubs provides low latency, high throughput, and scalable data streaming, making it suitable for big data scenarios like telemetry processing and log analytics. You can use Event Hubs with other Azure services, such as Azure Stream Analytics and Azure Functions, to build end-to-end real-time data processing solutions.\n",
      "Category: Big Data\n",
      "\n",
      "Caption Text: Event Hubs provides low latency, high throughput, and scalable data streaming, making it suitable for big data scenarios like telemetry processing and log analytics. You can use Event Hubs with other Azure services, such as Azure Stream Analytics and Azure Functions, to build end-to-end real-time data processing solutions..\u0000\n",
      "\n",
      "Title: Azure Data Lake Analytics\n",
      "Score: 0.03077651560306549\n",
      "\n",
      "Content: Azure Data Lake Analytics is an on-demand, cloud-based analytics service that enables you to process and analyze big data. It provides features like job scheduling, parallel processing, and built-in analytics functions. Data Lake Analytics supports various data sources, such as Azure Data Lake Storage, Azure Blob Storage, and Azure SQL Database. You can use Data Lake Analytics to run U-SQL, R, and Python scripts, perform advanced analytics, and gain insights into your data. It also integrates with other Azure services, such as Azure Machine Learning and Azure Data Factory.\n",
      "Category: Analytics\n",
      "\n",
      "Caption Highlights: <em>Azure Data Lake Analytics</em> is an on-demand, cloud-based analytics service that enables you to process and analyze big data. It provides features like job scheduling, parallel processing, and built-in analytics functions. Data Lake Analytics supports various data sources, such as<em> Azure Data Lake Storage,</em> Azure Blob Storage, and Azure SQL Database.\n",
      "\n",
      "Title: Azure Synapse Analytics\n",
      "Score: 0.013513513840734959\n",
      "\n",
      "Content: Azure Synapse Analytics is an integrated analytics service that brings together big data and data warehousing. It enables you to ingest, prepare, manage, and serve data for immediate business intelligence and machine learning needs. Synapse Analytics provides a unified workspace for data engineers, data scientists, and business analysts to collaborate and build solutions. It supports various data sources, including Azure Data Lake Storage, Azure Blob Storage, and Azure Cosmos DB. You can use Synapse Analytics with other Azure services, such as Azure Machine Learning and Power BI.\n",
      "Category: Analytics\n",
      "\n",
      "Caption Highlights: Azure Synapse<em> Analytics</em> is an integrated analytics service that brings together big data and data warehousing. It enables you to ingest, prepare, manage, and serve data for immediate business intelligence and machine learning needs.\n",
      "\n",
      "Title: Azure Stream Analytics\n",
      "Score: 0.010869565419852734\n",
      "\n",
      "Content: Azure Stream Analytics is a real-time data stream processing service that enables you to analyze and process high volumes of fast-moving data. It supports various data sources, such as Azure Event Hubs, Azure IoT Hub, and Azure Blob Storage. Stream Analytics provides features like windowing, time-based aggregations, and user-defined functions. You can use Stream Analytics to build real-time dashboards, detect anomalies, and generate alerts. It also integrates with other Azure services, such as Azure Functions and Azure Machine Learning.\n",
      "Category: Analytics\n",
      "\n",
      "Caption Text: Azure Stream Analytics is a real-time data stream processing service that enables you to analyze and process high volumes of fast-moving data. It supports various data sources, such as Azure Event Hubs, Azure IoT Hub, and Azure Blob Storage. Stream Analytics provides features like windowing, time-based aggregations, and user-defined functions.\n",
      "\n",
      "Total Results: 5\n"
     ]
    },
    {
     "data": {
      "text/html": [
       "<div class=\"dni-plaintext\"><pre>&lt;null&gt;</pre></div><style>\r\n",
       ".dni-code-hint {\r\n",
       "    font-style: italic;\r\n",
       "    overflow: hidden;\r\n",
       "    white-space: nowrap;\r\n",
       "}\r\n",
       ".dni-treeview {\r\n",
       "    white-space: nowrap;\r\n",
       "}\r\n",
       ".dni-treeview td {\r\n",
       "    vertical-align: top;\r\n",
       "    text-align: start;\r\n",
       "}\r\n",
       "details.dni-treeview {\r\n",
       "    padding-left: 1em;\r\n",
       "}\r\n",
       "table td {\r\n",
       "    text-align: start;\r\n",
       "}\r\n",
       "table tr { \r\n",
       "    vertical-align: top; \r\n",
       "    margin: 0em 0px;\r\n",
       "}\r\n",
       "table tr td pre \r\n",
       "{ \r\n",
       "    vertical-align: top !important; \r\n",
       "    margin: 0em 0px !important;\r\n",
       "} \r\n",
       "table th {\r\n",
       "    text-align: start;\r\n",
       "}\r\n",
       "</style>"
      ]
     },
     "metadata": {},
     "output_type": "display_data"
    }
   ],
   "source": [
    "string query = \"Find services that are used for ‘big data processing’ and are similar to Azure Databricks.\";\n",
    "\n",
    "try\n",
    "{\n",
    "    // Generate the embedding for the query    \n",
    "    var queryEmbeddings = await GenerateEmbeddings(query, openAIClient);\n",
    "\n",
    "    // Perform the vector similarity search    \n",
    "    var searchOptions = new SearchOptions\n",
    "    {\n",
    "        Vectors = { new() { Value = queryEmbeddings.ToArray(), KNearestNeighborsCount = Int32.Parse(ResultSize), Fields = { \"contentVector\" } } },\n",
    "        Size = Int32.Parse(ResultSize),\n",
    "        QueryType = SearchQueryType.Semantic,\n",
    "        QueryLanguage = QueryLanguage.EnUs,\n",
    "        SemanticConfigurationName = SemanticSearchConfigName,\n",
    "        QueryCaption = QueryCaptionType.Extractive,\n",
    "        QueryAnswer = QueryAnswerType.Extractive,\n",
    "        QueryCaptionHighlightEnabled = true,\n",
    "        Select = { \"title\", \"content\", \"category\" },\n",
    "    };\n",
    "\n",
    "    SearchResults<SearchDocument> response = await searchClient.SearchAsync<SearchDocument>(query, searchOptions);\n",
    "\n",
    "    int count = 0;\n",
    "    Console.WriteLine(\"Semantic Hybrid Search Results:\\n\");\n",
    "\n",
    "    Console.WriteLine(\"Query Answer:\");\n",
    "    foreach (AnswerResult result in response.Answers)\n",
    "    {\n",
    "        Console.WriteLine($\"Answer Highlights: {result.Highlights}\");\n",
    "        Console.WriteLine($\"Answer Text: {result.Text}\\n\");\n",
    "    }\n",
    "\n",
    "    await foreach (SearchResult<SearchDocument> result in response.GetResultsAsync())\n",
    "    {\n",
    "        count++;\n",
    "        Console.WriteLine($\"Title: {result.Document[\"title\"]}\");\n",
    "        Console.WriteLine($\"Score: {result.Score}\\n\");\n",
    "        Console.WriteLine($\"Content: {result.Document[\"content\"]}\");\n",
    "        Console.WriteLine($\"Category: {result.Document[\"category\"]}\\n\");\n",
    "\n",
    "        if (result.Captions != null)\n",
    "        {\n",
    "            var caption = result.Captions.FirstOrDefault();\n",
    "            if (caption != null)\n",
    "            {\n",
    "                if (!string.IsNullOrEmpty(caption.Highlights))\n",
    "                {\n",
    "                    Console.WriteLine($\"Caption Highlights: {caption.Highlights}\\n\");\n",
    "                }\n",
    "                else\n",
    "                {\n",
    "                    Console.WriteLine($\"Caption Text: {caption.Text}\\n\");\n",
    "                }\n",
    "            }\n",
    "        }\n",
    "    }\n",
    "    Console.WriteLine($\"Total Results: {count}\");\n",
    "\n",
    "    async Task<IReadOnlyList<float>> GenerateEmbeddings(string text, OpenAIClient openAIClient)\n",
    "    {\n",
    "        var response = await openAIClient.GetEmbeddingsAsync(TextEmbeddingModel, new EmbeddingsOptions(text));\n",
    "        return response.Value.Data[0].Embedding;\n",
    "    }\n",
    "}\n",
    "catch (NullReferenceException)\n",
    "{\n",
    "    Console.WriteLine(\"Total Results: 0\");\n",
    "}"
   ]
  },
  {
   "cell_type": "markdown",
   "metadata": {},
   "source": [
    "# Other resources\n",
    "\n",
    "Here's some more places to explore:\n",
    "> https://learn.microsoft.com/en-us/azure/search/vector-search-overview\n",
    "> https://learn.microsoft.com/en-us/azure/search/semantic-search-overview\n",
    "> https://github.com/Azure/cognitive-search-vector-pr"
   ]
  }
 ],
 "metadata": {
  "kernelspec": {
   "display_name": ".NET (C#)",
   "language": "C#",
   "name": ".net-csharp"
  },
  "language_info": {
   "name": "polyglot-notebook"
  },
  "polyglot_notebook": {
   "kernelInfo": {
    "defaultKernelName": "csharp",
    "items": [
     {
      "aliases": [],
      "name": "csharp"
     }
    ]
   }
  }
 },
 "nbformat": 4,
 "nbformat_minor": 2
}
